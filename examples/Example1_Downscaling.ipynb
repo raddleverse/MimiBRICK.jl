{
 "cells": [
  {
   "cell_type": "markdown",
   "metadata": {},
   "source": [
    "## MimiBRICK Example 1: Downscaling\n",
    "\n",
    "This notebook contain examples of the use cases for the downscaling function in MimiBRICK.jl.  The `src/downscale.jl` file contains routines to downscale the BRICK global sea level projections to local. This uses the sea-level \"fingerprints\" of [Slangen et al. (2014)](https://link.springer.com/article/10.1007/s10584-014-1080-9). For clarity, the signature of the function is below."
   ]
  },
  {
   "cell_type": "code",
   "execution_count": 1,
   "metadata": {},
   "outputs": [],
   "source": [
    "\"\"\"\n",
    "    downscale_brick(;lon, lat, results_dir, proj_or_hind, ensemble_or_map, model_config, rcp_scenario=\"RCP85\")\n",
    "\n",
    "Downscale BRICK projections to a single point, using either the whole ensemble\n",
    "or only the maximum a posteriori ensemble member. Note this function assumes a\n",
    "specific folder structure and file naming within the top level results_dir.\n",
    "\n",
    "lon = longitude (degrees East) of location for downscaling\n",
    "lat = latitude (degrees North) of location for downscaling\n",
    "results_dir = the top level directory of results ie. \"my_brick_results_20M_20-02-2022\"\n",
    "proj_or_hind = \"proj\" for projections, or \"hind\" for hindcast\n",
    "ensemble_or_map = \"ensemble\" for entire posterior ensemble, or \"map\" for the maximum a posteriori ensemble member (single simulation)\n",
    "model_config = \"brick\", \"doeclimbrick\", or \"sneasybrick\"\n",
    "rcp_scenario = \"RCP26\", \"RCP45\", \"RCP60\", or \"RCP85\" (default). Doesn't matter for hindcast.\n",
    "\"\"\";"
   ]
  },
  {
   "cell_type": "markdown",
   "metadata": {},
   "source": [
    "### Environment Setup\n",
    "\n",
    "For this example, this notebook will run using the environment defined by the `Manifest.toml` and `Project.toml` files within this `examples` folder.  If you wish to follow along and type these out on your local machine, you will need to set up a matching Julia environment with the same files.\n",
    "\n",
    "To do so, either add the packages listed in the `Project.toml` and printed below after `Pkg.status()`, or feel free to copy over the two environment files (`Project.toml` and `Manifest.toml`) onto your local machine and then activate the environment with either `Pkg.activate(\".\")` or `]` to enter the Pkg REPL followed by `activate .` and then a backspace to exict the Pkg REPL)."
   ]
  },
  {
   "cell_type": "code",
   "execution_count": 1,
   "metadata": {},
   "outputs": [
    {
     "name": "stderr",
     "output_type": "stream",
     "text": [
      "\u001b[32m\u001b[1m  Activating\u001b[22m\u001b[39m environment at `~/.julia/dev/MimiBRICK/examples/Project.toml`\n"
     ]
    },
    {
     "name": "stdout",
     "output_type": "stream",
     "text": [
      "\u001b[32m\u001b[1m      Status\u001b[22m\u001b[39m "
     ]
    },
    {
     "name": "stdout",
     "output_type": "stream",
     "text": [
      "`~/.julia/dev/MimiBRICK/examples/Project.toml`\n",
      " \u001b[90m [5d742f6a] \u001b[39mCSVFiles v1.0.1\n",
      " \u001b[90m [a93c6f00] \u001b[39mDataFrames v1.3.3\n",
      " \u001b[90m [91f4afc7] \u001b[39mMimiBRICK v1.0.0-DEV `~/.julia/dev/MimiBRICK`\n",
      " \u001b[90m [3f1801d0] \u001b[39mMimiSNEASY v1.0.2-DEV `https://github.com/anthofflab/MimiSNEASY.jl#master`\n"
     ]
    }
   ],
   "source": [
    "# Activate the examples environment \n",
    "using Pkg\n",
    "Pkg.activate(\".\")\n",
    "Pkg.status() # Check which packages are loaded"
   ]
  },
  {
   "cell_type": "markdown",
   "metadata": {},
   "source": [
    "### Download Files\n",
    "\n",
    "Download the files needed to run these downscaling examples.\n",
    "\n",
    "TODO"
   ]
  },
  {
   "cell_type": "markdown",
   "metadata": {},
   "source": [
    "### Generating projections of local mean sea-level change\n",
    "\n",
    "Now that we have set up the environment and downloaded the global mean sea level change files we want to downscale, we will proceed by downscaling the latitude and longitude for New York City as an example"
   ]
  },
  {
   "cell_type": "code",
   "execution_count": null,
   "metadata": {},
   "outputs": [],
   "source": [
    "using MimiBRICK\n",
    "using Test"
   ]
  },
  {
   "cell_type": "markdown",
   "metadata": {},
   "source": [
    "#### Common Settings for All Specifications"
   ]
  },
  {
   "cell_type": "code",
   "execution_count": null,
   "metadata": {},
   "outputs": [],
   "source": [
    "# Lat and Lon for New York City\n",
    "lat = 40.7128 # deg N\n",
    "lon = 360-74.0060 # 74.0060 deg W\n",
    "model_config = \"brick\"\n",
    "results_dir = \"\" #TODO"
   ]
  },
  {
   "cell_type": "markdown",
   "metadata": {},
   "source": [
    "##### Specification 1"
   ]
  },
  {
   "cell_type": "code",
   "execution_count": null,
   "metadata": {},
   "outputs": [],
   "source": [
    "# specification\n",
    "proj_or_hind=\"hind\"\n",
    "ensemble_or_map = \"ensemble\"\n",
    "rcp_scenario = \"RCP85\"\n",
    "\n",
    "# run\n",
    "years, lsl_hind_ens = downscale_brick(lon=lon, lat=lat, results_dir=results_dir, proj_or_hind=proj_or_hind, ensemble_or_map=ensemble_or_map, model_config=model_config, rcp_scenario=rcp_scenario)\n",
    "\n",
    "# run some tests\n",
    "@test size(lsl_hind_ens)[1]==168\n",
    "@test size(lsl_hind_ens)[2]==10000\n",
    "@test length(years)==168\n",
    "@test all([isa(lsl_hind_ens[end,i],Number) for i=1:length(years)])\n",
    "@test all([isa(years[i],Number) for i=1:length(years)])"
   ]
  },
  {
   "cell_type": "markdown",
   "metadata": {},
   "source": [
    "#### Specification 2"
   ]
  },
  {
   "cell_type": "code",
   "execution_count": null,
   "metadata": {},
   "outputs": [],
   "source": [
    "# specification\n",
    "proj_or_hind=\"hind\"\n",
    "ensemble_or_map = \"ensemble\"\n",
    "rcp_scenario = \"RCP85\"\n",
    "\n",
    "# run\n",
    "years, lsl_hind_ens = downscale_brick(lon=lon, lat=lat, results_dir=results_dir, proj_or_hind=proj_or_hind, ensemble_or_map=ensemble_or_map, model_config=model_config, rcp_scenario=rcp_scenario)\n",
    "\n",
    "# run some tests\n",
    "@test size(lsl_proj_ens)[1]==451\n",
    "@test size(lsl_proj_ens)[2]==10000\n",
    "@test length(years)==451\n",
    "@test all([isa(lsl_proj_ens[end,i],Number) for i=1:length(years)])\n",
    "@test all([isa(years[i],Number) for i=1:length(years)])"
   ]
  },
  {
   "cell_type": "markdown",
   "metadata": {},
   "source": [
    "#### Specification 3"
   ]
  },
  {
   "cell_type": "code",
   "execution_count": null,
   "metadata": {},
   "outputs": [],
   "source": [
    "# specification\n",
    "proj_or_hind=\"hind\"\n",
    "ensemble_or_map = \"map\"\n",
    "rcp_scenario = \"RCP60\"\n",
    "\n",
    "# run\n",
    "years, lsl_hind_ens = downscale_brick(lon=lon, lat=lat, results_dir=results_dir, proj_or_hind=proj_or_hind, ensemble_or_map=ensemble_or_map, model_config=model_config, rcp_scenario=rcp_scenario)\n",
    "\n",
    "# run some tests\n",
    "@test ndims(lsl_map)==1\n",
    "@test length(lsl_map)==451\n",
    "@test length(years)==451\n",
    "@test all([isa(lsl_map[i],Number) for i=1:length(years)])\n",
    "@test all([isa(years[i],Number) for i=1:length(years)])"
   ]
  }
 ],
 "metadata": {
  "kernelspec": {
   "display_name": "Julia 1.6.6",
   "language": "julia",
   "name": "julia-1.6"
  },
  "language_info": {
   "file_extension": ".jl",
   "mimetype": "application/julia",
   "name": "julia",
   "version": "1.6.6"
  },
  "orig_nbformat": 4
 },
 "nbformat": 4,
 "nbformat_minor": 2
}
