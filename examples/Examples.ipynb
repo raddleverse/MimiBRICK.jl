{
 "cells": [
  {
   "cell_type": "markdown",
   "metadata": {},
   "source": [
    "## MimiBRICK Examples\n",
    "\n",
    "This notebook contain examples of the use cases for the downscaling function in MimiBRICK.jl."
   ]
  },
  {
   "cell_type": "markdown",
   "metadata": {},
   "source": [
    "### Environment Setup\n",
    "\n",
    "For this example, this notebook will run using the environment defined by the `Manifest.toml` and `Project.toml` files within this `examples` folder.  If you wish to follow along and type these out on your local machine, you will need to set up a matching Julia environment with the same files.\n",
    "\n",
    "To do so, either add the packages listed in the `Project.toml` and printed below after `Pkg.status()`, or feel free to copy over the two environment files (`Project.toml` and `Manifest.toml`) onto your local machine and then activate the environment with either `Pkg.activate(\".\")` or `]` to enter the Pkg REPL followed by `activate .` and then a backspace to exict the Pkg REPL)."
   ]
  },
  {
   "cell_type": "code",
   "execution_count": 1,
   "metadata": {},
   "outputs": [
    {
     "name": "stderr",
     "output_type": "stream",
     "text": [
      "\u001b[32m\u001b[1m  Activating\u001b[22m\u001b[39m environment at `~/.julia/dev/MimiBRICK/examples/Project.toml`\n"
     ]
    },
    {
     "name": "stdout",
     "output_type": "stream",
     "text": [
      "\u001b[32m\u001b[1m      Status\u001b[22m\u001b[39m "
     ]
    },
    {
     "name": "stdout",
     "output_type": "stream",
     "text": [
      "`~/.julia/dev/MimiBRICK/examples/Project.toml`\n",
      " \u001b[90m [5d742f6a] \u001b[39mCSVFiles v1.0.1\n",
      " \u001b[90m [a93c6f00] \u001b[39mDataFrames v1.3.3\n",
      " \u001b[90m [91f4afc7] \u001b[39mMimiBRICK v1.0.0-DEV `~/.julia/dev/MimiBRICK`\n",
      " \u001b[90m [3f1801d0] \u001b[39mMimiSNEASY v1.0.2-DEV `https://github.com/anthofflab/MimiSNEASY.jl#master`\n"
     ]
    }
   ],
   "source": [
    "# Activate the examples environment \n",
    "using Pkg\n",
    "Pkg.activate(\".\")\n",
    "Pkg.status() # Check which packages are loaded"
   ]
  }
 ],
 "metadata": {
  "kernelspec": {
   "display_name": "Julia 1.6.6",
   "language": "julia",
   "name": "julia-1.6"
  },
  "language_info": {
   "file_extension": ".jl",
   "mimetype": "application/julia",
   "name": "julia",
   "version": "1.6.6"
  },
  "orig_nbformat": 4
 },
 "nbformat": 4,
 "nbformat_minor": 2
}
